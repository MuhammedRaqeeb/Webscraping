{
 "cells": [
  {
   "cell_type": "markdown",
   "id": "1cf930b2",
   "metadata": {},
   "source": [
    "# WEB SCRAPING + PANDAS + DATA VISUALISATION"
   ]
  },
  {
   "cell_type": "code",
   "execution_count": 1,
   "id": "e9dfaaec",
   "metadata": {},
   "outputs": [],
   "source": [
    "#import libraries\n",
    "from bs4 import BeautifulSoup\n",
    "import requests"
   ]
  },
  {
   "cell_type": "code",
   "execution_count": 2,
   "id": "e4cd8ee9",
   "metadata": {},
   "outputs": [],
   "source": [
    "#get url\n",
    "url = 'https://en.wikipedia.org/wiki/List_of_largest_companies_in_the_United_States_by_revenue'"
   ]
  },
  {
   "cell_type": "code",
   "execution_count": 100,
   "id": "1876508c",
   "metadata": {},
   "outputs": [],
   "source": [
    "#response\n",
    "response = requests.get(url)"
   ]
  },
  {
   "cell_type": "code",
   "execution_count": 7,
   "id": "ea838d68",
   "metadata": {},
   "outputs": [],
   "source": [
    "#getting html\n",
    "soup = BeautifulSoup(page.text, 'html')"
   ]
  },
  {
   "cell_type": "code",
   "execution_count": 110,
   "id": "563b6572",
   "metadata": {},
   "outputs": [],
   "source": [
    "#here are fetch all code related with table especially index 1 table\n",
    "table_find = soup.find_all('table')[1]"
   ]
  },
  {
   "cell_type": "code",
   "execution_count": 112,
   "id": "01ac2d23",
   "metadata": {},
   "outputs": [],
   "source": [
    "# fetch wikitable sortable \n",
    "table_find1 = soup.find_all('table', class_ = 'wikitable sortable')\n"
   ]
  },
  {
   "cell_type": "code",
   "execution_count": 114,
   "id": "0c22ba81",
   "metadata": {},
   "outputs": [],
   "source": [
    "#table find\n",
    "table = soup.find_all('table')[1]\n",
    "table2 = soup.find_all('table')[2]\n",
    "table3 = soup.find_all('table')[3]"
   ]
  },
  {
   "cell_type": "code",
   "execution_count": 225,
   "id": "ddd45b28",
   "metadata": {},
   "outputs": [],
   "source": [
    "world_titles = table.find_all('th')\n",
    "world_table_titles =[title.text.strip() for title in world_titles]\n",
    "    \n",
    " print(world_table_titles)   "
   ]
  },
  {
   "cell_type": "code",
   "execution_count": 13,
   "id": "334cf99a",
   "metadata": {},
   "outputs": [],
   "source": [
    "#import pandas library\n",
    "import pandas as pd"
   ]
  },
  {
   "cell_type": "code",
   "execution_count": 107,
   "id": "102bf5c5",
   "metadata": {},
   "outputs": [],
   "source": [
    "df = pd.DataFrame(columns = world_table_titles) #data frame"
   ]
  },
  {
   "cell_type": "code",
   "execution_count": 123,
   "id": "098f145b",
   "metadata": {},
   "outputs": [],
   "source": [
    "column_data = table.find_all('tr') # whole tr tagline \n",
    "\n",
    "for row in column_data[1:]:#start with indexing for removing bracket at the beginning\n",
    "    row_data = row.find_all('td')\n",
    "    individual_row_data = [data.text.strip() for data in row_data]\n",
    "    \n",
    "    length = len(df)\n",
    "    df.loc[length] = individual_row_data"
   ]
  },
  {
   "cell_type": "code",
   "execution_count": null,
   "id": "20d09166",
   "metadata": {},
   "outputs": [],
   "source": [
    "df"
   ]
  },
  {
   "cell_type": "markdown",
   "id": "75820bd6",
   "metadata": {},
   "source": [
    "# DATA PROCESSING"
   ]
  },
  {
   "cell_type": "code",
   "execution_count": 223,
   "id": "b003b3f7",
   "metadata": {},
   "outputs": [],
   "source": [
    "#data analysis\n",
    "shape_df = df.shape\n",
    "info_ = df.info()\n",
    "type_df = type(df)\n",
    "dtype = df.dtypes\n",
    "describe = df.describe"
   ]
  },
  {
   "cell_type": "code",
   "execution_count": 23,
   "id": "7cac597c",
   "metadata": {},
   "outputs": [],
   "source": [
    "df['Rev'] = df['Revenue (USD millions)'] # new column by existing data"
   ]
  },
  {
   "cell_type": "code",
   "execution_count": 25,
   "id": "b2dd93cf",
   "metadata": {},
   "outputs": [],
   "source": [
    "df['Rev'] = df['Revenue (USD millions)'].str.replace(',', '') # a new column which has removing coma"
   ]
  },
  {
   "cell_type": "code",
   "execution_count": 28,
   "id": "4b272f90",
   "metadata": {},
   "outputs": [],
   "source": [
    "df['Rev'] = pd.to_numeric(df['Rev']) # datatype change"
   ]
  },
  {
   "cell_type": "raw",
   "id": "db5ba4c6",
   "metadata": {},
   "source": [
    "# An Alternative way of get url link with pandas"
   ]
  },
  {
   "cell_type": "code",
   "execution_count": null,
   "id": "c5712a48",
   "metadata": {},
   "outputs": [],
   "source": [
    "#url\n",
    "df1 = pd.read_html('https://en.wikipedia.org/wiki/List_of_largest_companies_in_the_United_States_by_revenue')"
   ]
  },
  {
   "cell_type": "code",
   "execution_count": null,
   "id": "55a0fdd4",
   "metadata": {},
   "outputs": [],
   "source": [
    "len(df1) #number of tables"
   ]
  },
  {
   "cell_type": "code",
   "execution_count": 215,
   "id": "e1a6a193",
   "metadata": {},
   "outputs": [],
   "source": [
    "#Below are the 100 largest companies by revenue in 2023 (mostly for fiscal year 2022), according to the Fortune 500 list.\n",
    "revenue_growth = df1[1]"
   ]
  },
  {
   "cell_type": "code",
   "execution_count": 216,
   "id": "94619692",
   "metadata": {},
   "outputs": [],
   "source": [
    "#Below are the 10 largest private companies by revenue in 2022 (mostly for fiscal year 2021), according to Forbes.\n",
    "revenue_usd = df1[2]"
   ]
  },
  {
   "cell_type": "code",
   "execution_count": 213,
   "id": "9d8f68cd",
   "metadata": {},
   "outputs": [],
   "source": [
    "#The 10 most profitable companies in 2023 according to the Fortune 500.\n",
    "profits_by_companies = df1[3]\n"
   ]
  },
  {
   "cell_type": "code",
   "execution_count": 212,
   "id": "3b774b19",
   "metadata": {},
   "outputs": [],
   "source": [
    "#add a new column\n",
    "profits_by_companies['profits'] = profits_by_companies['Profits (USD millions)']\n"
   ]
  },
  {
   "cell_type": "markdown",
   "id": "8b6a6b21",
   "metadata": {},
   "source": [
    "# DATA VISUALISATION"
   ]
  },
  {
   "cell_type": "code",
   "execution_count": 206,
   "id": "062ce9a1",
   "metadata": {},
   "outputs": [],
   "source": [
    "#import libraries for visualisation\n",
    "%matplotlib inline\n",
    "import matplotlib.pyplot as plt"
   ]
  },
  {
   "cell_type": "code",
   "execution_count": 207,
   "id": "065efe77",
   "metadata": {},
   "outputs": [],
   "source": [
    "#x axis\n",
    "x=profits_by_companies.Name"
   ]
  },
  {
   "cell_type": "code",
   "execution_count": 209,
   "id": "c8cea68d",
   "metadata": {},
   "outputs": [],
   "source": [
    "#y axis\n",
    "y=profits_by_companies.profits"
   ]
  },
  {
   "cell_type": "code",
   "execution_count": 211,
   "id": "5b444ee7",
   "metadata": {},
   "outputs": [
    {
     "data": {
      "image/png": "[encoded data removed]",
      "text/plain": [
       "<Figure size 640x480 with 1 Axes>"
      ]
     },
     "metadata": {},
     "output_type": "display_data"
    }
   ],
   "source": [
    "#horizontal bar graph\n",
    "plt.barh(x,y , color = \"red\")\n",
    "plt.title('Top 10 profitable companies in USA(2023)') #title of the graph\n",
    "plt.xlabel('profit (USD millions)')#x label\n",
    "plt.ylabel('Name of the companies')#y label\n",
    "plt.show() "
   ]
  },
  {
   "cell_type": "code",
   "execution_count": 227,
   "id": "fc9c00da",
   "metadata": {},
   "outputs": [],
   "source": [
    "df.to_csv(r'C:\\Users\\USER\\Desktop\\data_analysis\\web_companies.csv',index=False)"
   ]
  },
  {
   "cell_type": "code",
   "execution_count": 228,
   "id": "6b71decc",
   "metadata": {},
   "outputs": [],
   "source": [
    "profits_by_companies.to_csv(r'C:\\Users\\USER\\Desktop\\data_analysis\\top_profit_companies.csv',index=False)"
   ]
  },
  {
   "cell_type": "code",
   "execution_count": 229,
   "id": "686d38e0",
   "metadata": {},
   "outputs": [],
   "source": [
    "df.to_csv(r'C:\\Users\\USER\\Desktop\\data_analysis\\web_companies.json',index=False)"
   ]
  },
  {
   "cell_type": "code",
   "execution_count": 230,
   "id": "4ea5f426",
   "metadata": {},
   "outputs": [],
   "source": [
    "profits_by_companies.to_csv(r'C:\\Users\\USER\\Desktop\\data_analysis\\top_profit_companies.json',index=False)"
   ]
  },
  {
   "cell_type": "code",
   "execution_count": null,
   "id": "3aa674a5",
   "metadata": {},
   "outputs": [],
   "source": []
  }
 ],
 "metadata": {
  "kernelspec": {
   "display_name": "Python 3 (ipykernel)",
   "language": "python",
   "name": "python3"
  },
  "language_info": {
   "codemirror_mode": {
    "name": "ipython",
    "version": 3
   },
   "file_extension": ".py",
   "mimetype": "text/x-python",
   "name": "python",
   "nbconvert_exporter": "python",
   "pygments_lexer": "ipython3",
   "version": "3.10.12"
  }
 },
 "nbformat": 4,
 "nbformat_minor": 5
}
